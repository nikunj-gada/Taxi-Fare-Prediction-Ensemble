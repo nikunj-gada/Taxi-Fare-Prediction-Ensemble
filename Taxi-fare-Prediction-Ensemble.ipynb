{
 "cells": [
  {
   "cell_type": "markdown",
   "id": "a2f0731a",
   "metadata": {},
   "source": [
    "# Taxi Fare Prediction"
   ]
  },
  {
   "cell_type": "markdown",
   "id": "fb3a4bcf",
   "metadata": {},
   "source": [
    "<u>Abstract:</u>\n",
    "    \n",
    "    In the last few years, the number of for-hire vehicles operating in NY has grown from 63,000 to more than 100,000. However, while the number of trips in app-based vehicles has increased from 6 million to 17 million a year, taxi trips have fallen from 11 million to 8.5 million. Hence, the NY Yellow Cab organization decided to become more datacentric. Then we have apps like Uber, OLA, Lyft, Gett, etc. how do these apps work? After all, that set price is not a random guess"
   ]
  },
  {
   "cell_type": "markdown",
   "id": "f3ef45b0",
   "metadata": {},
   "source": [
    "<u>Problem Statement:</u>\n",
    "    \n",
    "    Given pickup and dropoff locations, the pickup timestamp, and the passenger count, the objective is to predict the fare of the taxi ride using Random Forest.\n"
   ]
  },
  {
   "cell_type": "markdown",
   "id": "4b8100b0",
   "metadata": {},
   "source": [
    "<u>Dataset Information:</u>\n",
    "    \n",
    "<table width=\"600\">\n",
    "<tbody>\n",
    "<tr>\n",
    "<td width=\"216\">\n",
    "<p>Column</p>\n",
    "</td>\n",
    "<td width=\"384\">\n",
    "<p>Description</p>\n",
    "</td>\n",
    "</tr>\n",
    "<tr>\n",
    "<td width=\"216\">\n",
    "<p>unique_id</p>\n",
    "</td>\n",
    "<td width=\"384\">\n",
    "<p>A unique identifier or key for each record in the dataset</p>\n",
    "</td>\n",
    "</tr>\n",
    "<tr>\n",
    "<td width=\"216\">\n",
    "<p>date_time_of_pickup</p>\n",
    "</td>\n",
    "<td width=\"384\">\n",
    "<p>The time when the ride started</p>\n",
    "</td>\n",
    "</tr>\n",
    "<tr>\n",
    "<td width=\"216\">\n",
    "<p>longitude_of_pickup</p>\n",
    "</td>\n",
    "<td width=\"384\">\n",
    "<p>Longitude of the taxi ride pickup point</p>\n",
    "</td>\n",
    "</tr>\n",
    "<tr>\n",
    "<td width=\"216\">\n",
    "<p>latitude_of_pickup</p>\n",
    "</td>\n",
    "<td width=\"384\">\n",
    "<p>Latitude of the taxi ride pickup point</p>\n",
    "</td>\n",
    "</tr>\n",
    "<tr>\n",
    "<td width=\"216\">\n",
    "<p>longitude__of_dropoff</p>\n",
    "</td>\n",
    "<td width=\"384\">\n",
    "<p>Longitude of the taxi ride dropoff point</p>\n",
    "</td>\n",
    "</tr>\n",
    "<tr>\n",
    "<td width=\"216\">\n",
    "<p>latitude_of_dropoff</p>\n",
    "</td>\n",
    "<td width=\"384\">\n",
    "<p>Latitude of the taxi ride dropoff point</p>\n",
    "</td>\n",
    "</tr>\n",
    "<tr>\n",
    "<td width=\"216\">\n",
    "<p>no_of_passenger</p>\n",
    "</td>\n",
    "<td width=\"384\">\n",
    "<p>count of the passengers during the ride</p>\n",
    "</td>\n",
    "</tr>\n",
    "<tr>\n",
    "<td width=\"216\">\n",
    "<p>amount</p>\n",
    "</td>\n",
    "<td width=\"384\">\n",
    "<p>(target variable)the dollar amount of the cost of the taxi ride</p>\n",
    "</td>\n",
    "</tr>\n",
    "</tbody>\n",
    "</table>"
   ]
  },
  {
   "cell_type": "markdown",
   "id": "c37bf877",
   "metadata": {},
   "source": [
    "<u>Scope:</u>\n",
    "    \n",
    "    Prepare and analyse data\n",
    "    Perform feature engineering wherever applicable\n",
    "    Check the distribution of key numerical variables\n",
    "    Training a Random Forest model with data and check it’s performance\n",
    "    Perform hyperparameter tuning"
   ]
  },
  {
   "cell_type": "markdown",
   "id": "cae2ea44",
   "metadata": {},
   "source": [
    "<u>Learning Outcome:</u>\n",
    "    \n",
    "    The students will get a better understanding of how the variables are linked to each other and how the EDA approach will help them gain more insights and knowledge about the data that we have and train Random Forest model with the data. \n",
    "    Also, using GridSerachCV to get best hyperparameters to build optimized Random Forest model for prediction."
   ]
  },
  {
   "cell_type": "markdown",
   "id": "6a8da508",
   "metadata": {},
   "source": [
    "Lets start by importing necessary libraries"
   ]
  },
  {
   "cell_type": "code",
   "execution_count": 1,
   "id": "1b10ee39",
   "metadata": {},
   "outputs": [],
   "source": [
    "# to load the dataset\n",
    "\n",
    "# 'Pandas' is used for data manipulation and analysis\n",
    "import pandas as pd\n",
    "\n",
    "# For EDA :\n",
    "# 'Matplotlib' is a data visualization library for 2D and 3D plots, built on numpy\n",
    "import matplotlib.pyplot as plt\n",
    "\n",
    "# 'Seaborn' is based on matplotlib; used for plotting statistical graphics\n",
    "import seaborn as sns\n",
    "# Override pyplot settings by seaborn theme\n",
    "sns.set()\n",
    "\n",
    "# 'Numpy' is used for mathematical operations on large, multi-dimensional arrays and matrices\n",
    "import numpy as np\n",
    "\n",
    "# To display maximum columns\n",
    "pd.set_option(\"display.max_columns\",None)\n",
    "\n",
    "# suppress warnings \n",
    "import warnings\n",
    "warnings.filterwarnings('ignore')"
   ]
  },
  {
   "cell_type": "markdown",
   "id": "402c7e4b",
   "metadata": {},
   "source": [
    "#### Read Data"
   ]
  },
  {
   "cell_type": "markdown",
   "id": "1add2190",
   "metadata": {},
   "source": [
    "Read and display data to get insights from the data"
   ]
  },
  {
   "cell_type": "code",
   "execution_count": 2,
   "id": "3ec84c8a",
   "metadata": {},
   "outputs": [
    {
     "data": {
      "text/html": [
       "<div>\n",
       "<style scoped>\n",
       "    .dataframe tbody tr th:only-of-type {\n",
       "        vertical-align: middle;\n",
       "    }\n",
       "\n",
       "    .dataframe tbody tr th {\n",
       "        vertical-align: top;\n",
       "    }\n",
       "\n",
       "    .dataframe thead th {\n",
       "        text-align: right;\n",
       "    }\n",
       "</style>\n",
       "<table border=\"1\" class=\"dataframe\">\n",
       "  <thead>\n",
       "    <tr style=\"text-align: right;\">\n",
       "      <th></th>\n",
       "      <th>amount</th>\n",
       "      <th>date_time_of_pickup</th>\n",
       "      <th>longitude_of_pickup</th>\n",
       "      <th>latitude_of_pickup</th>\n",
       "      <th>longitude_of_dropoff</th>\n",
       "      <th>latitude_of_dropoff</th>\n",
       "      <th>no_of_passenger</th>\n",
       "    </tr>\n",
       "    <tr>\n",
       "      <th>unique_id</th>\n",
       "      <th></th>\n",
       "      <th></th>\n",
       "      <th></th>\n",
       "      <th></th>\n",
       "      <th></th>\n",
       "      <th></th>\n",
       "      <th></th>\n",
       "    </tr>\n",
       "  </thead>\n",
       "  <tbody>\n",
       "    <tr>\n",
       "      <th>26:21.0</th>\n",
       "      <td>4.5</td>\n",
       "      <td>2009-06-15 17:26:21 UTC</td>\n",
       "      <td>-73.844311</td>\n",
       "      <td>40.721319</td>\n",
       "      <td>-73.841610</td>\n",
       "      <td>40.712278</td>\n",
       "      <td>1</td>\n",
       "    </tr>\n",
       "    <tr>\n",
       "      <th>52:16.0</th>\n",
       "      <td>16.9</td>\n",
       "      <td>2010-01-05 16:52:16 UTC</td>\n",
       "      <td>-74.016048</td>\n",
       "      <td>40.711303</td>\n",
       "      <td>-73.979268</td>\n",
       "      <td>40.782004</td>\n",
       "      <td>1</td>\n",
       "    </tr>\n",
       "    <tr>\n",
       "      <th>35:00.0</th>\n",
       "      <td>5.7</td>\n",
       "      <td>2011-08-18 00:35:00 UTC</td>\n",
       "      <td>-73.982738</td>\n",
       "      <td>40.761270</td>\n",
       "      <td>-73.991242</td>\n",
       "      <td>40.750562</td>\n",
       "      <td>2</td>\n",
       "    </tr>\n",
       "    <tr>\n",
       "      <th>30:42.0</th>\n",
       "      <td>7.7</td>\n",
       "      <td>2012-04-21 04:30:42 UTC</td>\n",
       "      <td>-73.987130</td>\n",
       "      <td>40.733143</td>\n",
       "      <td>-73.991567</td>\n",
       "      <td>40.758092</td>\n",
       "      <td>1</td>\n",
       "    </tr>\n",
       "    <tr>\n",
       "      <th>51:00.0</th>\n",
       "      <td>5.3</td>\n",
       "      <td>2010-03-09 07:51:00 UTC</td>\n",
       "      <td>-73.968095</td>\n",
       "      <td>40.768008</td>\n",
       "      <td>-73.956655</td>\n",
       "      <td>40.783762</td>\n",
       "      <td>1</td>\n",
       "    </tr>\n",
       "  </tbody>\n",
       "</table>\n",
       "</div>"
      ],
      "text/plain": [
       "           amount      date_time_of_pickup  longitude_of_pickup  \\\n",
       "unique_id                                                         \n",
       "26:21.0       4.5  2009-06-15 17:26:21 UTC           -73.844311   \n",
       "52:16.0      16.9  2010-01-05 16:52:16 UTC           -74.016048   \n",
       "35:00.0       5.7  2011-08-18 00:35:00 UTC           -73.982738   \n",
       "30:42.0       7.7  2012-04-21 04:30:42 UTC           -73.987130   \n",
       "51:00.0       5.3  2010-03-09 07:51:00 UTC           -73.968095   \n",
       "\n",
       "           latitude_of_pickup  longitude_of_dropoff  latitude_of_dropoff  \\\n",
       "unique_id                                                                  \n",
       "26:21.0             40.721319            -73.841610            40.712278   \n",
       "52:16.0             40.711303            -73.979268            40.782004   \n",
       "35:00.0             40.761270            -73.991242            40.750562   \n",
       "30:42.0             40.733143            -73.991567            40.758092   \n",
       "51:00.0             40.768008            -73.956655            40.783762   \n",
       "\n",
       "           no_of_passenger  \n",
       "unique_id                   \n",
       "26:21.0                  1  \n",
       "52:16.0                  1  \n",
       "35:00.0                  2  \n",
       "30:42.0                  1  \n",
       "51:00.0                  1  "
      ]
     },
     "execution_count": 2,
     "metadata": {},
     "output_type": "execute_result"
    }
   ],
   "source": [
    "# read csv file using pandas\n",
    "df = pd.read_csv('TaxiFare.csv',header=0,index_col=0)\n",
    "\n",
    "# display the top 5 rows of the dataframe\n",
    "df.head()\n",
    "\n",
    "# Note: To display more rows, example 10, use head(10)"
   ]
  },
  {
   "cell_type": "markdown",
   "id": "811c2e65",
   "metadata": {},
   "source": [
    "The column unique_id contains the unique identifier for each observation, which is redundant for further analysis. Thus, we use it as our index column."
   ]
  },
  {
   "cell_type": "markdown",
   "id": "2d1c1a6f",
   "metadata": {},
   "source": [
    "#### Understand the Data"
   ]
  },
  {
   "cell_type": "markdown",
   "id": "db7a1977",
   "metadata": {},
   "source": [
    "Check the data type."
   ]
  },
  {
   "cell_type": "code",
   "execution_count": 3,
   "id": "cf667843",
   "metadata": {},
   "outputs": [
    {
     "data": {
      "text/plain": [
       "(50000, 7)"
      ]
     },
     "execution_count": 3,
     "metadata": {},
     "output_type": "execute_result"
    }
   ],
   "source": [
    "# 'shape' returns the dimensions of the data\n",
    "df.shape"
   ]
  },
  {
   "cell_type": "code",
   "execution_count": 4,
   "id": "75a3833f",
   "metadata": {},
   "outputs": [
    {
     "data": {
      "text/plain": [
       "amount                  float64\n",
       "date_time_of_pickup      object\n",
       "longitude_of_pickup     float64\n",
       "latitude_of_pickup      float64\n",
       "longitude_of_dropoff    float64\n",
       "latitude_of_dropoff     float64\n",
       "no_of_passenger           int64\n",
       "dtype: object"
      ]
     },
     "execution_count": 4,
     "metadata": {},
     "output_type": "execute_result"
    }
   ],
   "source": [
    "# use 'dtypes' to check the data type of each variable\n",
    "df.dtypes"
   ]
  },
  {
   "cell_type": "markdown",
   "id": "17e06834",
   "metadata": {},
   "source": [
    "From the above output, we see that the data type of 'date_time_of_pickup' is 'object '.\n",
    "But according to data definition, 'date_time_of_pickup 'is a date-timestamp variable, which is wrongly interpreted as 'object', so we will convert this variable data type to 'datetime'."
   ]
  },
  {
   "cell_type": "code",
   "execution_count": 5,
   "id": "873c0150",
   "metadata": {},
   "outputs": [],
   "source": [
    "df.date_time_of_pickup=pd.to_datetime(df.date_time_of_pickup)"
   ]
  },
  {
   "cell_type": "code",
   "execution_count": 6,
   "id": "8385f057",
   "metadata": {},
   "outputs": [
    {
     "data": {
      "text/plain": [
       "amount                              float64\n",
       "date_time_of_pickup     datetime64[ns, UTC]\n",
       "longitude_of_pickup                 float64\n",
       "latitude_of_pickup                  float64\n",
       "longitude_of_dropoff                float64\n",
       "latitude_of_dropoff                 float64\n",
       "no_of_passenger                       int64\n",
       "dtype: object"
      ]
     },
     "execution_count": 6,
     "metadata": {},
     "output_type": "execute_result"
    }
   ],
   "source": [
    "# Recheck using 'dtypes' to check the data type of each variable\n",
    "df.dtypes"
   ]
  },
  {
   "cell_type": "markdown",
   "id": "d829d22d",
   "metadata": {},
   "source": [
    "#### Feature Engineering"
   ]
  },
  {
   "cell_type": "markdown",
   "id": "b714b695",
   "metadata": {},
   "source": [
    "We will extract new features from variable date_time_of_pickup . We will also add a variable which measures the distance between the pickup and dropoff point."
   ]
  },
  {
   "cell_type": "code",
   "execution_count": 7,
   "id": "932a4c40",
   "metadata": {},
   "outputs": [],
   "source": [
    "# extract various date time components as seperate variables\n",
    "df = df.assign(hour = df.date_time_of_pickup.dt.hour, \n",
    "               day = df.date_time_of_pickup.dt.day,\n",
    "               month = df.date_time_of_pickup.dt.month, \n",
    "               year = df.date_time_of_pickup.dt.year, \n",
    "               dayofweek = df.date_time_of_pickup.dt.dayofweek\n",
    "              )"
   ]
  },
  {
   "cell_type": "code",
   "execution_count": 8,
   "id": "3245e194",
   "metadata": {},
   "outputs": [
    {
     "data": {
      "text/html": [
       "<div>\n",
       "<style scoped>\n",
       "    .dataframe tbody tr th:only-of-type {\n",
       "        vertical-align: middle;\n",
       "    }\n",
       "\n",
       "    .dataframe tbody tr th {\n",
       "        vertical-align: top;\n",
       "    }\n",
       "\n",
       "    .dataframe thead th {\n",
       "        text-align: right;\n",
       "    }\n",
       "</style>\n",
       "<table border=\"1\" class=\"dataframe\">\n",
       "  <thead>\n",
       "    <tr style=\"text-align: right;\">\n",
       "      <th></th>\n",
       "      <th>amount</th>\n",
       "      <th>date_time_of_pickup</th>\n",
       "      <th>longitude_of_pickup</th>\n",
       "      <th>latitude_of_pickup</th>\n",
       "      <th>longitude_of_dropoff</th>\n",
       "      <th>latitude_of_dropoff</th>\n",
       "      <th>no_of_passenger</th>\n",
       "      <th>hour</th>\n",
       "      <th>day</th>\n",
       "      <th>month</th>\n",
       "      <th>year</th>\n",
       "      <th>dayofweek</th>\n",
       "    </tr>\n",
       "    <tr>\n",
       "      <th>unique_id</th>\n",
       "      <th></th>\n",
       "      <th></th>\n",
       "      <th></th>\n",
       "      <th></th>\n",
       "      <th></th>\n",
       "      <th></th>\n",
       "      <th></th>\n",
       "      <th></th>\n",
       "      <th></th>\n",
       "      <th></th>\n",
       "      <th></th>\n",
       "      <th></th>\n",
       "    </tr>\n",
       "  </thead>\n",
       "  <tbody>\n",
       "    <tr>\n",
       "      <th>26:21.0</th>\n",
       "      <td>4.5</td>\n",
       "      <td>2009-06-15 17:26:21+00:00</td>\n",
       "      <td>-73.844311</td>\n",
       "      <td>40.721319</td>\n",
       "      <td>-73.841610</td>\n",
       "      <td>40.712278</td>\n",
       "      <td>1</td>\n",
       "      <td>17</td>\n",
       "      <td>15</td>\n",
       "      <td>6</td>\n",
       "      <td>2009</td>\n",
       "      <td>0</td>\n",
       "    </tr>\n",
       "    <tr>\n",
       "      <th>52:16.0</th>\n",
       "      <td>16.9</td>\n",
       "      <td>2010-01-05 16:52:16+00:00</td>\n",
       "      <td>-74.016048</td>\n",
       "      <td>40.711303</td>\n",
       "      <td>-73.979268</td>\n",
       "      <td>40.782004</td>\n",
       "      <td>1</td>\n",
       "      <td>16</td>\n",
       "      <td>5</td>\n",
       "      <td>1</td>\n",
       "      <td>2010</td>\n",
       "      <td>1</td>\n",
       "    </tr>\n",
       "    <tr>\n",
       "      <th>35:00.0</th>\n",
       "      <td>5.7</td>\n",
       "      <td>2011-08-18 00:35:00+00:00</td>\n",
       "      <td>-73.982738</td>\n",
       "      <td>40.761270</td>\n",
       "      <td>-73.991242</td>\n",
       "      <td>40.750562</td>\n",
       "      <td>2</td>\n",
       "      <td>0</td>\n",
       "      <td>18</td>\n",
       "      <td>8</td>\n",
       "      <td>2011</td>\n",
       "      <td>3</td>\n",
       "    </tr>\n",
       "    <tr>\n",
       "      <th>30:42.0</th>\n",
       "      <td>7.7</td>\n",
       "      <td>2012-04-21 04:30:42+00:00</td>\n",
       "      <td>-73.987130</td>\n",
       "      <td>40.733143</td>\n",
       "      <td>-73.991567</td>\n",
       "      <td>40.758092</td>\n",
       "      <td>1</td>\n",
       "      <td>4</td>\n",
       "      <td>21</td>\n",
       "      <td>4</td>\n",
       "      <td>2012</td>\n",
       "      <td>5</td>\n",
       "    </tr>\n",
       "    <tr>\n",
       "      <th>51:00.0</th>\n",
       "      <td>5.3</td>\n",
       "      <td>2010-03-09 07:51:00+00:00</td>\n",
       "      <td>-73.968095</td>\n",
       "      <td>40.768008</td>\n",
       "      <td>-73.956655</td>\n",
       "      <td>40.783762</td>\n",
       "      <td>1</td>\n",
       "      <td>7</td>\n",
       "      <td>9</td>\n",
       "      <td>3</td>\n",
       "      <td>2010</td>\n",
       "      <td>1</td>\n",
       "    </tr>\n",
       "  </tbody>\n",
       "</table>\n",
       "</div>"
      ],
      "text/plain": [
       "           amount       date_time_of_pickup  longitude_of_pickup  \\\n",
       "unique_id                                                          \n",
       "26:21.0       4.5 2009-06-15 17:26:21+00:00           -73.844311   \n",
       "52:16.0      16.9 2010-01-05 16:52:16+00:00           -74.016048   \n",
       "35:00.0       5.7 2011-08-18 00:35:00+00:00           -73.982738   \n",
       "30:42.0       7.7 2012-04-21 04:30:42+00:00           -73.987130   \n",
       "51:00.0       5.3 2010-03-09 07:51:00+00:00           -73.968095   \n",
       "\n",
       "           latitude_of_pickup  longitude_of_dropoff  latitude_of_dropoff  \\\n",
       "unique_id                                                                  \n",
       "26:21.0             40.721319            -73.841610            40.712278   \n",
       "52:16.0             40.711303            -73.979268            40.782004   \n",
       "35:00.0             40.761270            -73.991242            40.750562   \n",
       "30:42.0             40.733143            -73.991567            40.758092   \n",
       "51:00.0             40.768008            -73.956655            40.783762   \n",
       "\n",
       "           no_of_passenger  hour  day  month  year  dayofweek  \n",
       "unique_id                                                      \n",
       "26:21.0                  1    17   15      6  2009          0  \n",
       "52:16.0                  1    16    5      1  2010          1  \n",
       "35:00.0                  2     0   18      8  2011          3  \n",
       "30:42.0                  1     4   21      4  2012          5  \n",
       "51:00.0                  1     7    9      3  2010          1  "
      ]
     },
     "execution_count": 8,
     "metadata": {},
     "output_type": "execute_result"
    }
   ],
   "source": [
    "df.head()"
   ]
  },
  {
   "cell_type": "markdown",
   "id": "97d8d3d6",
   "metadata": {},
   "source": [
    "we no longer need 'date_time_of_pickup' as we have converted all information of date time to its respectiv columns and hence we drop it."
   ]
  },
  {
   "cell_type": "code",
   "execution_count": 9,
   "id": "38c934f6",
   "metadata": {},
   "outputs": [],
   "source": [
    "df.drop(\"date_time_of_pickup\",axis=1,inplace=True)"
   ]
  },
  {
   "cell_type": "markdown",
   "id": "d8e82f00",
   "metadata": {},
   "source": [
    "We will add a new variable which measures the distance between the pickup and dropoff point. We will use the Haversine formula to compute the distance between two points of the journey, using the logitude and latitude values."
   ]
  },
  {
   "cell_type": "markdown",
   "id": "044f1252",
   "metadata": {},
   "source": [
    "<b>Haversine :  </b><a href=\"https://en.wikipedia.org/wiki/Haversine_formula\"> What is Haversine ? </a>"
   ]
  },
  {
   "cell_type": "markdown",
   "id": "2b3703c3",
   "metadata": {},
   "source": [
    "###### Manual Code"
   ]
  },
  {
   "cell_type": "code",
   "execution_count": 10,
   "id": "792efccf",
   "metadata": {},
   "outputs": [],
   "source": [
    "# function to calculate the travel distance from the longitudes and latitudes\n",
    "def distance_transform(longitude1, latitude1, longitude2, latitude2):\n",
    "    travel_dist = []\n",
    "    \n",
    "    for pos in range(len(longitude1)):\n",
    "        long1,lati1,long2,lati2 = map(radians,[longitude1[pos],latitude1[pos],longitude2[pos],latitude2[pos]])\n",
    "        dist_long = long2 - long1\n",
    "        dist_lati = lati2 - lati1\n",
    "        a = sin(dist_lati/2)**2 + cos(lati1) * cos(lati2) * sin(dist_long/2)**2\n",
    "        c = 2 * asin(sqrt(a))*6371\n",
    "        travel_dist.append(c)\n",
    "       \n",
    "    return travel_dist"
   ]
  },
  {
   "cell_type": "markdown",
   "id": "fa40fec6",
   "metadata": {},
   "source": [
    "    #Add a new variable travel distance\n",
    "\n",
    "    df['travel_dist_km'] = distance_transform(df['longitude_of_pickup'].to_numpy(),\n",
    "                                                    df['latitude_of_pickup'].to_numpy(),\n",
    "                                                    df['longitude_of_dropoff'].to_numpy(),\n",
    "                                                    df['latitude_of_dropoff'].to_numpy()\n",
    "                                                  )"
   ]
  },
  {
   "cell_type": "markdown",
   "id": "413d2119",
   "metadata": {},
   "source": [
    "###### Using Haversine library"
   ]
  },
  {
   "cell_type": "markdown",
   "id": "c4bc9b9d",
   "metadata": {},
   "source": [
    "    pip install haversine"
   ]
  },
  {
   "cell_type": "code",
   "execution_count": 11,
   "id": "0971ecb8",
   "metadata": {},
   "outputs": [],
   "source": [
    "from haversine import haversine, Unit\n",
    "\n",
    "#df.apply(lambda x: func(x['col1'],x['col2']),axis=1)\n",
    "\n",
    "df['travel_dist_km'] = df.apply(lambda row: haversine((row[\"latitude_of_pickup\"],row[\"longitude_of_pickup\"]),(row[\"latitude_of_dropoff\"],row[\"longitude_of_dropoff\"]), Unit.KILOMETERS),axis=1)"
   ]
  },
  {
   "cell_type": "code",
   "execution_count": 12,
   "id": "bd27d2ab",
   "metadata": {},
   "outputs": [
    {
     "data": {
      "text/html": [
       "<div>\n",
       "<style scoped>\n",
       "    .dataframe tbody tr th:only-of-type {\n",
       "        vertical-align: middle;\n",
       "    }\n",
       "\n",
       "    .dataframe tbody tr th {\n",
       "        vertical-align: top;\n",
       "    }\n",
       "\n",
       "    .dataframe thead th {\n",
       "        text-align: right;\n",
       "    }\n",
       "</style>\n",
       "<table border=\"1\" class=\"dataframe\">\n",
       "  <thead>\n",
       "    <tr style=\"text-align: right;\">\n",
       "      <th></th>\n",
       "      <th>amount</th>\n",
       "      <th>longitude_of_pickup</th>\n",
       "      <th>latitude_of_pickup</th>\n",
       "      <th>longitude_of_dropoff</th>\n",
       "      <th>latitude_of_dropoff</th>\n",
       "      <th>no_of_passenger</th>\n",
       "      <th>hour</th>\n",
       "      <th>day</th>\n",
       "      <th>month</th>\n",
       "      <th>year</th>\n",
       "      <th>dayofweek</th>\n",
       "      <th>travel_dist_km</th>\n",
       "    </tr>\n",
       "    <tr>\n",
       "      <th>unique_id</th>\n",
       "      <th></th>\n",
       "      <th></th>\n",
       "      <th></th>\n",
       "      <th></th>\n",
       "      <th></th>\n",
       "      <th></th>\n",
       "      <th></th>\n",
       "      <th></th>\n",
       "      <th></th>\n",
       "      <th></th>\n",
       "      <th></th>\n",
       "      <th></th>\n",
       "    </tr>\n",
       "  </thead>\n",
       "  <tbody>\n",
       "    <tr>\n",
       "      <th>26:21.0</th>\n",
       "      <td>4.5</td>\n",
       "      <td>-73.844311</td>\n",
       "      <td>40.721319</td>\n",
       "      <td>-73.841610</td>\n",
       "      <td>40.712278</td>\n",
       "      <td>1</td>\n",
       "      <td>17</td>\n",
       "      <td>15</td>\n",
       "      <td>6</td>\n",
       "      <td>2009</td>\n",
       "      <td>0</td>\n",
       "      <td>1.030765</td>\n",
       "    </tr>\n",
       "    <tr>\n",
       "      <th>52:16.0</th>\n",
       "      <td>16.9</td>\n",
       "      <td>-74.016048</td>\n",
       "      <td>40.711303</td>\n",
       "      <td>-73.979268</td>\n",
       "      <td>40.782004</td>\n",
       "      <td>1</td>\n",
       "      <td>16</td>\n",
       "      <td>5</td>\n",
       "      <td>1</td>\n",
       "      <td>2010</td>\n",
       "      <td>1</td>\n",
       "      <td>8.450145</td>\n",
       "    </tr>\n",
       "    <tr>\n",
       "      <th>35:00.0</th>\n",
       "      <td>5.7</td>\n",
       "      <td>-73.982738</td>\n",
       "      <td>40.761270</td>\n",
       "      <td>-73.991242</td>\n",
       "      <td>40.750562</td>\n",
       "      <td>2</td>\n",
       "      <td>0</td>\n",
       "      <td>18</td>\n",
       "      <td>8</td>\n",
       "      <td>2011</td>\n",
       "      <td>3</td>\n",
       "      <td>1.389527</td>\n",
       "    </tr>\n",
       "    <tr>\n",
       "      <th>30:42.0</th>\n",
       "      <td>7.7</td>\n",
       "      <td>-73.987130</td>\n",
       "      <td>40.733143</td>\n",
       "      <td>-73.991567</td>\n",
       "      <td>40.758092</td>\n",
       "      <td>1</td>\n",
       "      <td>4</td>\n",
       "      <td>21</td>\n",
       "      <td>4</td>\n",
       "      <td>2012</td>\n",
       "      <td>5</td>\n",
       "      <td>2.799274</td>\n",
       "    </tr>\n",
       "    <tr>\n",
       "      <th>51:00.0</th>\n",
       "      <td>5.3</td>\n",
       "      <td>-73.968095</td>\n",
       "      <td>40.768008</td>\n",
       "      <td>-73.956655</td>\n",
       "      <td>40.783762</td>\n",
       "      <td>1</td>\n",
       "      <td>7</td>\n",
       "      <td>9</td>\n",
       "      <td>3</td>\n",
       "      <td>2010</td>\n",
       "      <td>1</td>\n",
       "      <td>1.999160</td>\n",
       "    </tr>\n",
       "  </tbody>\n",
       "</table>\n",
       "</div>"
      ],
      "text/plain": [
       "           amount  longitude_of_pickup  latitude_of_pickup  \\\n",
       "unique_id                                                    \n",
       "26:21.0       4.5           -73.844311           40.721319   \n",
       "52:16.0      16.9           -74.016048           40.711303   \n",
       "35:00.0       5.7           -73.982738           40.761270   \n",
       "30:42.0       7.7           -73.987130           40.733143   \n",
       "51:00.0       5.3           -73.968095           40.768008   \n",
       "\n",
       "           longitude_of_dropoff  latitude_of_dropoff  no_of_passenger  hour  \\\n",
       "unique_id                                                                     \n",
       "26:21.0              -73.841610            40.712278                1    17   \n",
       "52:16.0              -73.979268            40.782004                1    16   \n",
       "35:00.0              -73.991242            40.750562                2     0   \n",
       "30:42.0              -73.991567            40.758092                1     4   \n",
       "51:00.0              -73.956655            40.783762                1     7   \n",
       "\n",
       "           day  month  year  dayofweek  travel_dist_km  \n",
       "unique_id                                               \n",
       "26:21.0     15      6  2009          0        1.030765  \n",
       "52:16.0      5      1  2010          1        8.450145  \n",
       "35:00.0     18      8  2011          3        1.389527  \n",
       "30:42.0     21      4  2012          5        2.799274  \n",
       "51:00.0      9      3  2010          1        1.999160  "
      ]
     },
     "execution_count": 12,
     "metadata": {},
     "output_type": "execute_result"
    }
   ],
   "source": [
    "df.head()"
   ]
  },
  {
   "cell_type": "markdown",
   "id": "0cd38ae0",
   "metadata": {},
   "source": [
    "We see that the distance in Km is added."
   ]
  },
  {
   "cell_type": "markdown",
   "id": "cff4c35c",
   "metadata": {},
   "source": [
    "#### Summary Statistics"
   ]
  },
  {
   "cell_type": "markdown",
   "id": "cca64bf0",
   "metadata": {},
   "source": [
    "As now have the required features, after having extracted new ones and dropping the redundant variables."
   ]
  },
  {
   "cell_type": "code",
   "execution_count": 13,
   "id": "b5d7d793",
   "metadata": {},
   "outputs": [
    {
     "name": "stdout",
     "output_type": "stream",
     "text": [
      "<class 'pandas.core.frame.DataFrame'>\n",
      "Index: 50000 entries, 26:21.0 to 13:14.0\n",
      "Data columns (total 12 columns):\n",
      " #   Column                Non-Null Count  Dtype  \n",
      "---  ------                --------------  -----  \n",
      " 0   amount                50000 non-null  float64\n",
      " 1   longitude_of_pickup   50000 non-null  float64\n",
      " 2   latitude_of_pickup    50000 non-null  float64\n",
      " 3   longitude_of_dropoff  50000 non-null  float64\n",
      " 4   latitude_of_dropoff   50000 non-null  float64\n",
      " 5   no_of_passenger       50000 non-null  int64  \n",
      " 6   hour                  50000 non-null  int64  \n",
      " 7   day                   50000 non-null  int64  \n",
      " 8   month                 50000 non-null  int64  \n",
      " 9   year                  50000 non-null  int64  \n",
      " 10  dayofweek             50000 non-null  int64  \n",
      " 11  travel_dist_km        50000 non-null  float64\n",
      "dtypes: float64(6), int64(6)\n",
      "memory usage: 5.0+ MB\n"
     ]
    }
   ],
   "source": [
    "df.info()"
   ]
  },
  {
   "cell_type": "markdown",
   "id": "0d51be0a",
   "metadata": {},
   "source": [
    "Here we take a look at the summary of each attribute. This includes the count, mean, the minimum and maximum values as well as some percentiles for numeric variables and count, unique, top, frequency for other variable types."
   ]
  },
  {
   "cell_type": "code",
   "execution_count": 14,
   "id": "d7092c01",
   "metadata": {},
   "outputs": [
    {
     "data": {
      "text/html": [
       "<div>\n",
       "<style scoped>\n",
       "    .dataframe tbody tr th:only-of-type {\n",
       "        vertical-align: middle;\n",
       "    }\n",
       "\n",
       "    .dataframe tbody tr th {\n",
       "        vertical-align: top;\n",
       "    }\n",
       "\n",
       "    .dataframe thead th {\n",
       "        text-align: right;\n",
       "    }\n",
       "</style>\n",
       "<table border=\"1\" class=\"dataframe\">\n",
       "  <thead>\n",
       "    <tr style=\"text-align: right;\">\n",
       "      <th></th>\n",
       "      <th>count</th>\n",
       "      <th>mean</th>\n",
       "      <th>std</th>\n",
       "      <th>min</th>\n",
       "      <th>25%</th>\n",
       "      <th>50%</th>\n",
       "      <th>75%</th>\n",
       "      <th>max</th>\n",
       "    </tr>\n",
       "  </thead>\n",
       "  <tbody>\n",
       "    <tr>\n",
       "      <th>amount</th>\n",
       "      <td>50000.0</td>\n",
       "      <td>11.364171</td>\n",
       "      <td>9.685557</td>\n",
       "      <td>-5.000000</td>\n",
       "      <td>6.000000</td>\n",
       "      <td>8.500000</td>\n",
       "      <td>12.500000</td>\n",
       "      <td>200.000000</td>\n",
       "    </tr>\n",
       "    <tr>\n",
       "      <th>longitude_of_pickup</th>\n",
       "      <td>50000.0</td>\n",
       "      <td>-72.509756</td>\n",
       "      <td>10.393860</td>\n",
       "      <td>-75.423848</td>\n",
       "      <td>-73.992062</td>\n",
       "      <td>-73.981840</td>\n",
       "      <td>-73.967148</td>\n",
       "      <td>40.783472</td>\n",
       "    </tr>\n",
       "    <tr>\n",
       "      <th>latitude_of_pickup</th>\n",
       "      <td>50000.0</td>\n",
       "      <td>39.933759</td>\n",
       "      <td>6.224857</td>\n",
       "      <td>-74.006893</td>\n",
       "      <td>40.734880</td>\n",
       "      <td>40.752678</td>\n",
       "      <td>40.767360</td>\n",
       "      <td>401.083332</td>\n",
       "    </tr>\n",
       "    <tr>\n",
       "      <th>longitude_of_dropoff</th>\n",
       "      <td>50000.0</td>\n",
       "      <td>-72.504616</td>\n",
       "      <td>10.407570</td>\n",
       "      <td>-84.654241</td>\n",
       "      <td>-73.991152</td>\n",
       "      <td>-73.980082</td>\n",
       "      <td>-73.963584</td>\n",
       "      <td>40.851027</td>\n",
       "    </tr>\n",
       "    <tr>\n",
       "      <th>latitude_of_dropoff</th>\n",
       "      <td>50000.0</td>\n",
       "      <td>39.926251</td>\n",
       "      <td>6.014737</td>\n",
       "      <td>-74.006377</td>\n",
       "      <td>40.734371</td>\n",
       "      <td>40.753372</td>\n",
       "      <td>40.768167</td>\n",
       "      <td>43.415190</td>\n",
       "    </tr>\n",
       "    <tr>\n",
       "      <th>no_of_passenger</th>\n",
       "      <td>50000.0</td>\n",
       "      <td>1.667840</td>\n",
       "      <td>1.289195</td>\n",
       "      <td>0.000000</td>\n",
       "      <td>1.000000</td>\n",
       "      <td>1.000000</td>\n",
       "      <td>2.000000</td>\n",
       "      <td>6.000000</td>\n",
       "    </tr>\n",
       "    <tr>\n",
       "      <th>hour</th>\n",
       "      <td>50000.0</td>\n",
       "      <td>13.489080</td>\n",
       "      <td>6.506935</td>\n",
       "      <td>0.000000</td>\n",
       "      <td>9.000000</td>\n",
       "      <td>14.000000</td>\n",
       "      <td>19.000000</td>\n",
       "      <td>23.000000</td>\n",
       "    </tr>\n",
       "    <tr>\n",
       "      <th>day</th>\n",
       "      <td>50000.0</td>\n",
       "      <td>15.672040</td>\n",
       "      <td>8.660789</td>\n",
       "      <td>1.000000</td>\n",
       "      <td>8.000000</td>\n",
       "      <td>16.000000</td>\n",
       "      <td>23.000000</td>\n",
       "      <td>31.000000</td>\n",
       "    </tr>\n",
       "    <tr>\n",
       "      <th>month</th>\n",
       "      <td>50000.0</td>\n",
       "      <td>6.273300</td>\n",
       "      <td>3.461157</td>\n",
       "      <td>1.000000</td>\n",
       "      <td>3.000000</td>\n",
       "      <td>6.000000</td>\n",
       "      <td>9.000000</td>\n",
       "      <td>12.000000</td>\n",
       "    </tr>\n",
       "    <tr>\n",
       "      <th>year</th>\n",
       "      <td>50000.0</td>\n",
       "      <td>2011.739260</td>\n",
       "      <td>1.862639</td>\n",
       "      <td>2009.000000</td>\n",
       "      <td>2010.000000</td>\n",
       "      <td>2012.000000</td>\n",
       "      <td>2013.000000</td>\n",
       "      <td>2015.000000</td>\n",
       "    </tr>\n",
       "    <tr>\n",
       "      <th>dayofweek</th>\n",
       "      <td>50000.0</td>\n",
       "      <td>3.029980</td>\n",
       "      <td>1.956936</td>\n",
       "      <td>0.000000</td>\n",
       "      <td>1.000000</td>\n",
       "      <td>3.000000</td>\n",
       "      <td>5.000000</td>\n",
       "      <td>6.000000</td>\n",
       "    </tr>\n",
       "    <tr>\n",
       "      <th>travel_dist_km</th>\n",
       "      <td>50000.0</td>\n",
       "      <td>18.508972</td>\n",
       "      <td>355.564801</td>\n",
       "      <td>0.000000</td>\n",
       "      <td>1.223147</td>\n",
       "      <td>2.120117</td>\n",
       "      <td>3.895575</td>\n",
       "      <td>8667.830785</td>\n",
       "    </tr>\n",
       "  </tbody>\n",
       "</table>\n",
       "</div>"
      ],
      "text/plain": [
       "                        count         mean         std          min  \\\n",
       "amount                50000.0    11.364171    9.685557    -5.000000   \n",
       "longitude_of_pickup   50000.0   -72.509756   10.393860   -75.423848   \n",
       "latitude_of_pickup    50000.0    39.933759    6.224857   -74.006893   \n",
       "longitude_of_dropoff  50000.0   -72.504616   10.407570   -84.654241   \n",
       "latitude_of_dropoff   50000.0    39.926251    6.014737   -74.006377   \n",
       "no_of_passenger       50000.0     1.667840    1.289195     0.000000   \n",
       "hour                  50000.0    13.489080    6.506935     0.000000   \n",
       "day                   50000.0    15.672040    8.660789     1.000000   \n",
       "month                 50000.0     6.273300    3.461157     1.000000   \n",
       "year                  50000.0  2011.739260    1.862639  2009.000000   \n",
       "dayofweek             50000.0     3.029980    1.956936     0.000000   \n",
       "travel_dist_km        50000.0    18.508972  355.564801     0.000000   \n",
       "\n",
       "                              25%          50%          75%          max  \n",
       "amount                   6.000000     8.500000    12.500000   200.000000  \n",
       "longitude_of_pickup    -73.992062   -73.981840   -73.967148    40.783472  \n",
       "latitude_of_pickup      40.734880    40.752678    40.767360   401.083332  \n",
       "longitude_of_dropoff   -73.991152   -73.980082   -73.963584    40.851027  \n",
       "latitude_of_dropoff     40.734371    40.753372    40.768167    43.415190  \n",
       "no_of_passenger          1.000000     1.000000     2.000000     6.000000  \n",
       "hour                     9.000000    14.000000    19.000000    23.000000  \n",
       "day                      8.000000    16.000000    23.000000    31.000000  \n",
       "month                    3.000000     6.000000     9.000000    12.000000  \n",
       "year                  2010.000000  2012.000000  2013.000000  2015.000000  \n",
       "dayofweek                1.000000     3.000000     5.000000     6.000000  \n",
       "travel_dist_km           1.223147     2.120117     3.895575  8667.830785  "
      ]
     },
     "execution_count": 14,
     "metadata": {},
     "output_type": "execute_result"
    }
   ],
   "source": [
    "# the describe() returns the statistical summary of the variables\n",
    "# by default, it returns the summary of numerical variables\n",
    "# use .transpose() (.T) for better readability. However it is optional\n",
    "df.describe().T"
   ]
  },
  {
   "cell_type": "markdown",
   "id": "ad866212",
   "metadata": {},
   "source": [
    "The above output illustrates the summary statistics of all the numeric variables like mean, median (50%), standard deviation, minimum, and maximum values, along with the first and third quantiles.\n",
    "\n",
    "Note that the minimum amount is -5 and maximum is 200. Ideally fare amount should not be less that 2.5 dollars, which is the minimum value set for fares in NYC. Also the minimum count of passengers is 0, which isn't a practical scenario. We will deal with such values as we progress the case study."
   ]
  },
  {
   "cell_type": "markdown",
   "id": "b1232005",
   "metadata": {},
   "source": [
    "#### Discover Outliers"
   ]
  },
  {
   "cell_type": "markdown",
   "id": "01a5b5de",
   "metadata": {},
   "source": [
    "An outlier is an observation that appears to deviate distinctly from other observations in the data. If the outliers are not removed, the model accuracy may decrease. Let us detect the extreme values in the data.\n",
    "\n",
    "The following can be considered as outliers in this case study:\n",
    "\n",
    "Amount < 2.5\n",
    "\n",
    "Trips where 90< latitude <-90, 180 < longitude < -180"
   ]
  },
  {
   "cell_type": "markdown",
   "id": "ec1d6dd4",
   "metadata": {},
   "source": [
    "--------------------------------------------------------------------------------------------------------------"
   ]
  },
  {
   "cell_type": "markdown",
   "id": "e0b04bcb",
   "metadata": {},
   "source": [
    "Amount < 2.5\n",
    "\n",
    "We have seen that there are instances of amount less that 0 as well in the data set, where as the minimum fare for any trip in NYC is 2.5 dollars, hence we will remove such observations. We have already seen that the max fare is 200 in the data set."
   ]
  },
  {
   "cell_type": "code",
   "execution_count": 15,
   "id": "ac37cbbb",
   "metadata": {},
   "outputs": [
    {
     "name": "stdout",
     "output_type": "stream",
     "text": [
      "Remaining observastions in the dataset: (49990, 12)\n"
     ]
    }
   ],
   "source": [
    "#We will only keep the observation where fare is between 2.5\n",
    "df = df.loc[(df.amount >= 2.5)]\n",
    "print(\"Remaining observastions in the dataset:\", df.shape)"
   ]
  },
  {
   "cell_type": "markdown",
   "id": "8928512d",
   "metadata": {},
   "source": [
    "Remove the observations with travel distance less than 0"
   ]
  },
  {
   "cell_type": "code",
   "execution_count": 16,
   "id": "284042d7",
   "metadata": {},
   "outputs": [
    {
     "name": "stdout",
     "output_type": "stream",
     "text": [
      "Remaining observastions in the dataset: (48541, 12)\n"
     ]
    }
   ],
   "source": [
    "#We will only keep the observation where travel distance is greater than 0 and less than or equal to 130\n",
    "df = df.loc[(df.travel_dist_km > 0)]\n",
    "print(\"Remaining observastions in the dataset:\", df.shape)"
   ]
  },
  {
   "cell_type": "markdown",
   "id": "0c6630e2",
   "metadata": {},
   "source": [
    "Remove the observations with unreal longitude and latitude values , that is , 90< latitude <-90, 180 < longitude < -180."
   ]
  },
  {
   "cell_type": "code",
   "execution_count": 17,
   "id": "5159388d",
   "metadata": {},
   "outputs": [],
   "source": [
    "incorrect_coordinates = df.loc[(df.latitude_of_pickup > 90) |(df.latitude_of_pickup < -90) |\n",
    "                                   (df.latitude_of_dropoff > 90) |(df.latitude_of_dropoff < -90) |\n",
    "                                   (df.longitude_of_pickup > 180) |(df.longitude_of_pickup < -180) |\n",
    "                                   (df.longitude_of_dropoff > 90) |(df.longitude_of_dropoff < -90)\n",
    "                                    ].index"
   ]
  },
  {
   "cell_type": "code",
   "execution_count": 18,
   "id": "065b867f",
   "metadata": {},
   "outputs": [
    {
     "name": "stdout",
     "output_type": "stream",
     "text": [
      "Remaining observastions in the dataset: (48211, 12)\n"
     ]
    }
   ],
   "source": [
    "df.drop(incorrect_coordinates, inplace = True, errors = 'ignore')\n",
    "print(\"Remaining observastions in the dataset:\", df.shape)"
   ]
  },
  {
   "cell_type": "markdown",
   "id": "8a0403c7",
   "metadata": {},
   "source": [
    "The number of observations is reduced to 48211 from 50000 which suggests that we have removed the observations with extreme or immpractical values."
   ]
  },
  {
   "cell_type": "markdown",
   "id": "0ec3991b",
   "metadata": {},
   "source": [
    "<a href=\"https://bit.ly/33bgNpq\">How to use statistics to identify outliers in data</a>"
   ]
  },
  {
   "cell_type": "markdown",
   "id": "d1277301",
   "metadata": {},
   "source": [
    "#### Missing Values"
   ]
  },
  {
   "cell_type": "markdown",
   "id": "098203f4",
   "metadata": {},
   "source": [
    "Check the missing values"
   ]
  },
  {
   "cell_type": "code",
   "execution_count": 19,
   "id": "c7f8a62c",
   "metadata": {},
   "outputs": [
    {
     "data": {
      "text/plain": [
       "amount                  0\n",
       "longitude_of_pickup     0\n",
       "latitude_of_pickup      0\n",
       "longitude_of_dropoff    0\n",
       "latitude_of_dropoff     0\n",
       "no_of_passenger         0\n",
       "hour                    0\n",
       "day                     0\n",
       "month                   0\n",
       "year                    0\n",
       "dayofweek               0\n",
       "travel_dist_km          0\n",
       "dtype: int64"
      ]
     },
     "execution_count": 19,
     "metadata": {},
     "output_type": "execute_result"
    }
   ],
   "source": [
    "df.isnull().sum()"
   ]
  },
  {
   "cell_type": "markdown",
   "id": "661eeda2",
   "metadata": {},
   "source": [
    "None of the variables contain missing values"
   ]
  },
  {
   "cell_type": "markdown",
   "id": "8b5d0b84",
   "metadata": {},
   "source": [
    "#### Exploratory Data Analysis"
   ]
  },
  {
   "cell_type": "markdown",
   "id": "073692bc",
   "metadata": {},
   "source": [
    "##### Correlation Matrix"
   ]
  },
  {
   "cell_type": "code",
   "execution_count": 20,
   "id": "7ab09974",
   "metadata": {
    "scrolled": false
   },
   "outputs": [
    {
     "data": {
      "image/png": "[encoded data removed]",
      "text/plain": [
       "<Figure size 3600x1440 with 2 Axes>"
      ]
     },
     "metadata": {},
     "output_type": "display_data"
    }
   ],
   "source": [
    "# set figure size\n",
    "plt.figure(figsize=(50, 20))\n",
    "\n",
    "# plot the heat map\n",
    "# corr: give the correlation matrix\n",
    "# pass the condition to get the strong correlation between the variables\n",
    "# cmap: color code used for plotting\n",
    "# vmax: gives a maximum range of values for the chart\n",
    "# vmin: gives a minimum range of values for the chart\n",
    "# annot: prints the correlation values in the chart\n",
    "# annot_kws: sets the font size of the annotation\n",
    "corr = df.corr()\n",
    "sns.heatmap(corr[(corr >= 0.7) | (corr <= -0.7)], cmap = 'YlGnBu', vmax = 1.0, vmin = -1.0, annot = True, \n",
    "            annot_kws={\"size\": 30})\n",
    "\n",
    "# set the size of x and y axes labels\n",
    "# set text size using 'fontsize'\n",
    "plt.xticks(fontsize = 30, rotation=45)\n",
    "plt.yticks(fontsize = 30, rotation=0)\n",
    "\n",
    "# display the plot\n",
    "plt.show()"
   ]
  },
  {
   "cell_type": "markdown",
   "id": "6f09721c",
   "metadata": {},
   "source": [
    "Let us use count plot and see for number of obs for each unique values"
   ]
  },
  {
   "cell_type": "code",
   "execution_count": 21,
   "id": "0d8155eb",
   "metadata": {},
   "outputs": [
    {
     "data": {
      "text/plain": [
       "array([0, 1, 3, 5, 2, 6, 4], dtype=int64)"
      ]
     },
     "execution_count": 21,
     "metadata": {},
     "output_type": "execute_result"
    }
   ],
   "source": [
    "df.dayofweek.unique()"
   ]
  },
  {
   "cell_type": "code",
   "execution_count": 22,
   "id": "a0e43412",
   "metadata": {},
   "outputs": [
    {
     "data": {
      "text/plain": [
       "<AxesSubplot:title={'center':'Taxi trips count during weekdays'}, xlabel='hour', ylabel='count'>"
      ]
     },
     "execution_count": 22,
     "metadata": {},
     "output_type": "execute_result"
    },
    {
     "data": {
      "image/png": "[encoded data removed]",
      "text/plain": [
       "<Figure size 1440x720 with 1 Axes>"
      ]
     },
     "metadata": {},
     "output_type": "display_data"
    }
   ],
   "source": [
    "plt.figure(figsize=(20,10))\n",
    "plt.title('Taxi trips count during weekdays')\n",
    "sns.countplot(x='hour', data=df.loc[(df.dayofweek >= 0) & (df.dayofweek < 5)])"
   ]
  },
  {
   "cell_type": "markdown",
   "id": "f535d64d",
   "metadata": {},
   "source": [
    "We see that during the weekdays the count of trips start to peak from 8 am and is highest at 9am.\n",
    "\n",
    "In the evening the peak is at 6pm and 7pm."
   ]
  },
  {
   "cell_type": "code",
   "execution_count": 23,
   "id": "655c7c94",
   "metadata": {},
   "outputs": [
    {
     "data": {
      "text/plain": [
       "<AxesSubplot:title={'center':'Taxi trips count during weekends'}, xlabel='hour', ylabel='count'>"
      ]
     },
     "execution_count": 23,
     "metadata": {},
     "output_type": "execute_result"
    },
    {
     "data": {
      "image/png": "[encoded data removed]",
      "text/plain": [
       "<Figure size 1440x720 with 1 Axes>"
      ]
     },
     "metadata": {},
     "output_type": "display_data"
    }
   ],
   "source": [
    "plt.figure(figsize=(20,10))\n",
    "plt.title('Taxi trips count during weekends')\n",
    "sns.countplot(x='hour', data=df.loc[(df.dayofweek >= 5) & (df.dayofweek <=6)])"
   ]
  },
  {
   "cell_type": "markdown",
   "id": "fff9a76a",
   "metadata": {},
   "source": [
    "This pattern is different from the weekdays. \n",
    "In the evening the demand is almost evenly high after 6pm till late night except a slight dip at 8pm and 9pm."
   ]
  },
  {
   "cell_type": "code",
   "execution_count": 24,
   "id": "cbad5941",
   "metadata": {
    "scrolled": false
   },
   "outputs": [
    {
     "data": {
      "text/plain": [
       "<AxesSubplot:xlabel='day', ylabel='count'>"
      ]
     },
     "execution_count": 24,
     "metadata": {},
     "output_type": "execute_result"
    },
    {
     "data": {
      "image/png": "[encoded data removed]",
      "text/plain": [
       "<Figure size 1440x720 with 1 Axes>"
      ]
     },
     "metadata": {},
     "output_type": "display_data"
    },
    {
     "data": {
      "image/png": "[encoded data removed]",
      "text/plain": [
       "<Figure size 1440x720 with 1 Axes>"
      ]
     },
     "metadata": {},
     "output_type": "display_data"
    },
    {
     "data": {
      "image/png": "[encoded data removed]",
      "text/plain": [
       "<Figure size 1440x720 with 1 Axes>"
      ]
     },
     "metadata": {},
     "output_type": "display_data"
    }
   ],
   "source": [
    "plt.figure(figsize=(20,10))\n",
    "sns.countplot(df['year'])\n",
    "# plt.savefig('year.png')\n",
    "\n",
    "plt.figure(figsize=(20,10))\n",
    "sns.countplot(df['month'])\n",
    "# plt.savefig('month.png')\n",
    "\n",
    "plt.figure(figsize=(20,10))\n",
    "sns.countplot(df['day'])\n",
    "# plt.savefig('day_of_week.png')\n",
    "\n"
   ]
  },
  {
   "cell_type": "code",
   "execution_count": 25,
   "id": "ed4f32de",
   "metadata": {},
   "outputs": [
    {
     "data": {
      "text/plain": [
       "<AxesSubplot:title={'center':'No of passenger count during weekends'}, xlabel='no_of_passenger', ylabel='count'>"
      ]
     },
     "execution_count": 25,
     "metadata": {},
     "output_type": "execute_result"
    },
    {
     "data": {
      "image/png": "[encoded data removed]",
      "text/plain": [
       "<Figure size 1440x720 with 1 Axes>"
      ]
     },
     "metadata": {},
     "output_type": "display_data"
    }
   ],
   "source": [
    "#no_of_passenger\n",
    "plt.figure(figsize=(20,10))\n",
    "plt.title('No of passenger count during weekends')\n",
    "sns.countplot(x='no_of_passenger', data=df.loc[(df.dayofweek >= 5) & (df.dayofweek <=6)])\n",
    "# plt.savefig('no_of_passenger.png')"
   ]
  },
  {
   "cell_type": "code",
   "execution_count": 26,
   "id": "ed96ec79",
   "metadata": {},
   "outputs": [
    {
     "data": {
      "text/plain": [
       "<AxesSubplot:title={'center':'No of passenger count during weekdays'}, xlabel='no_of_passenger', ylabel='count'>"
      ]
     },
     "execution_count": 26,
     "metadata": {},
     "output_type": "execute_result"
    },
    {
     "data": {
      "image/png": "[encoded data removed]",
      "text/plain": [
       "<Figure size 1440x720 with 1 Axes>"
      ]
     },
     "metadata": {},
     "output_type": "display_data"
    }
   ],
   "source": [
    "#no_of_passenger\n",
    "plt.figure(figsize=(20,10))\n",
    "plt.title('No of passenger count during weekdays')\n",
    "sns.countplot(x='no_of_passenger', data=df.loc[(df.dayofweek >= 0) & (df.dayofweek <5)])\n",
    "# plt.savefig('no_of_passenger.png')"
   ]
  },
  {
   "cell_type": "markdown",
   "id": "e3121020",
   "metadata": {},
   "source": [
    "we do not see any significant change here"
   ]
  },
  {
   "cell_type": "code",
   "execution_count": 27,
   "id": "d711ced8",
   "metadata": {},
   "outputs": [
    {
     "data": {
      "text/html": [
       "<div>\n",
       "<style scoped>\n",
       "    .dataframe tbody tr th:only-of-type {\n",
       "        vertical-align: middle;\n",
       "    }\n",
       "\n",
       "    .dataframe tbody tr th {\n",
       "        vertical-align: top;\n",
       "    }\n",
       "\n",
       "    .dataframe thead th {\n",
       "        text-align: right;\n",
       "    }\n",
       "</style>\n",
       "<table border=\"1\" class=\"dataframe\">\n",
       "  <thead>\n",
       "    <tr style=\"text-align: right;\">\n",
       "      <th></th>\n",
       "      <th>amount</th>\n",
       "      <th>longitude_of_pickup</th>\n",
       "      <th>latitude_of_pickup</th>\n",
       "      <th>longitude_of_dropoff</th>\n",
       "      <th>latitude_of_dropoff</th>\n",
       "      <th>no_of_passenger</th>\n",
       "      <th>hour</th>\n",
       "      <th>day</th>\n",
       "      <th>month</th>\n",
       "      <th>year</th>\n",
       "      <th>dayofweek</th>\n",
       "      <th>travel_dist_km</th>\n",
       "    </tr>\n",
       "    <tr>\n",
       "      <th>unique_id</th>\n",
       "      <th></th>\n",
       "      <th></th>\n",
       "      <th></th>\n",
       "      <th></th>\n",
       "      <th></th>\n",
       "      <th></th>\n",
       "      <th></th>\n",
       "      <th></th>\n",
       "      <th></th>\n",
       "      <th></th>\n",
       "      <th></th>\n",
       "      <th></th>\n",
       "    </tr>\n",
       "  </thead>\n",
       "  <tbody>\n",
       "    <tr>\n",
       "      <th>26:21.0</th>\n",
       "      <td>4.5</td>\n",
       "      <td>-73.844311</td>\n",
       "      <td>40.721319</td>\n",
       "      <td>-73.841610</td>\n",
       "      <td>40.712278</td>\n",
       "      <td>1</td>\n",
       "      <td>17</td>\n",
       "      <td>15</td>\n",
       "      <td>6</td>\n",
       "      <td>2009</td>\n",
       "      <td>0</td>\n",
       "      <td>1.030765</td>\n",
       "    </tr>\n",
       "    <tr>\n",
       "      <th>52:16.0</th>\n",
       "      <td>16.9</td>\n",
       "      <td>-74.016048</td>\n",
       "      <td>40.711303</td>\n",
       "      <td>-73.979268</td>\n",
       "      <td>40.782004</td>\n",
       "      <td>1</td>\n",
       "      <td>16</td>\n",
       "      <td>5</td>\n",
       "      <td>1</td>\n",
       "      <td>2010</td>\n",
       "      <td>1</td>\n",
       "      <td>8.450145</td>\n",
       "    </tr>\n",
       "    <tr>\n",
       "      <th>35:00.0</th>\n",
       "      <td>5.7</td>\n",
       "      <td>-73.982738</td>\n",
       "      <td>40.761270</td>\n",
       "      <td>-73.991242</td>\n",
       "      <td>40.750562</td>\n",
       "      <td>2</td>\n",
       "      <td>0</td>\n",
       "      <td>18</td>\n",
       "      <td>8</td>\n",
       "      <td>2011</td>\n",
       "      <td>3</td>\n",
       "      <td>1.389527</td>\n",
       "    </tr>\n",
       "    <tr>\n",
       "      <th>30:42.0</th>\n",
       "      <td>7.7</td>\n",
       "      <td>-73.987130</td>\n",
       "      <td>40.733143</td>\n",
       "      <td>-73.991567</td>\n",
       "      <td>40.758092</td>\n",
       "      <td>1</td>\n",
       "      <td>4</td>\n",
       "      <td>21</td>\n",
       "      <td>4</td>\n",
       "      <td>2012</td>\n",
       "      <td>5</td>\n",
       "      <td>2.799274</td>\n",
       "    </tr>\n",
       "    <tr>\n",
       "      <th>51:00.0</th>\n",
       "      <td>5.3</td>\n",
       "      <td>-73.968095</td>\n",
       "      <td>40.768008</td>\n",
       "      <td>-73.956655</td>\n",
       "      <td>40.783762</td>\n",
       "      <td>1</td>\n",
       "      <td>7</td>\n",
       "      <td>9</td>\n",
       "      <td>3</td>\n",
       "      <td>2010</td>\n",
       "      <td>1</td>\n",
       "      <td>1.999160</td>\n",
       "    </tr>\n",
       "  </tbody>\n",
       "</table>\n",
       "</div>"
      ],
      "text/plain": [
       "           amount  longitude_of_pickup  latitude_of_pickup  \\\n",
       "unique_id                                                    \n",
       "26:21.0       4.5           -73.844311           40.721319   \n",
       "52:16.0      16.9           -74.016048           40.711303   \n",
       "35:00.0       5.7           -73.982738           40.761270   \n",
       "30:42.0       7.7           -73.987130           40.733143   \n",
       "51:00.0       5.3           -73.968095           40.768008   \n",
       "\n",
       "           longitude_of_dropoff  latitude_of_dropoff  no_of_passenger  hour  \\\n",
       "unique_id                                                                     \n",
       "26:21.0              -73.841610            40.712278                1    17   \n",
       "52:16.0              -73.979268            40.782004                1    16   \n",
       "35:00.0              -73.991242            40.750562                2     0   \n",
       "30:42.0              -73.991567            40.758092                1     4   \n",
       "51:00.0              -73.956655            40.783762                1     7   \n",
       "\n",
       "           day  month  year  dayofweek  travel_dist_km  \n",
       "unique_id                                               \n",
       "26:21.0     15      6  2009          0        1.030765  \n",
       "52:16.0      5      1  2010          1        8.450145  \n",
       "35:00.0     18      8  2011          3        1.389527  \n",
       "30:42.0     21      4  2012          5        2.799274  \n",
       "51:00.0      9      3  2010          1        1.999160  "
      ]
     },
     "execution_count": 27,
     "metadata": {},
     "output_type": "execute_result"
    }
   ],
   "source": [
    "df.head()"
   ]
  },
  {
   "cell_type": "code",
   "execution_count": 28,
   "id": "801fddb8",
   "metadata": {
    "scrolled": true
   },
   "outputs": [
    {
     "data": {
      "image/png": "[encoded data removed]",
      "text/plain": [
       "<Figure size 720x720 with 1 Axes>"
      ]
     },
     "metadata": {},
     "output_type": "display_data"
    },
    {
     "data": {
      "image/png": "[encoded data removed]",
      "text/plain": [
       "<Figure size 720x720 with 1 Axes>"
      ]
     },
     "metadata": {},
     "output_type": "display_data"
    },
    {
     "data": {
      "image/png": "[encoded data removed]",
      "text/plain": [
       "<Figure size 720x720 with 1 Axes>"
      ]
     },
     "metadata": {},
     "output_type": "display_data"
    },
    {
     "data": {
      "image/png": "[encoded data removed]",
      "text/plain": [
       "<Figure size 720x720 with 1 Axes>"
      ]
     },
     "metadata": {},
     "output_type": "display_data"
    },
    {
     "data": {
      "image/png": "[encoded data removed]",
      "text/plain": [
       "<Figure size 720x720 with 1 Axes>"
      ]
     },
     "metadata": {},
     "output_type": "display_data"
    },
    {
     "data": {
      "image/png": "[encoded data removed]",
      "text/plain": [
       "<Figure size 720x720 with 1 Axes>"
      ]
     },
     "metadata": {},
     "output_type": "display_data"
    }
   ],
   "source": [
    "# box plots are also useful in terms of seeing outliers\n",
    "# If you want, you can visualize other features as well.\n",
    "for col_name in df.columns[5:-1]:\n",
    "    #plot size\n",
    "    plt.figure(figsize=(10,10))\n",
    "    sns.boxplot(df[col_name])"
   ]
  },
  {
   "cell_type": "markdown",
   "id": "8cc6c00e",
   "metadata": {},
   "source": [
    "#### Spliting the data into X and Y"
   ]
  },
  {
   "cell_type": "code",
   "execution_count": 29,
   "id": "67147054",
   "metadata": {},
   "outputs": [],
   "source": [
    "Y = df.amount"
   ]
  },
  {
   "cell_type": "code",
   "execution_count": 30,
   "id": "974d02f0",
   "metadata": {},
   "outputs": [],
   "source": [
    "X = df.iloc[:,5:]"
   ]
  },
  {
   "cell_type": "code",
   "execution_count": 31,
   "id": "bdb55842",
   "metadata": {},
   "outputs": [
    {
     "name": "stdout",
     "output_type": "stream",
     "text": [
      "(48211, 7)\n"
     ]
    },
    {
     "data": {
      "text/html": [
       "<div>\n",
       "<style scoped>\n",
       "    .dataframe tbody tr th:only-of-type {\n",
       "        vertical-align: middle;\n",
       "    }\n",
       "\n",
       "    .dataframe tbody tr th {\n",
       "        vertical-align: top;\n",
       "    }\n",
       "\n",
       "    .dataframe thead th {\n",
       "        text-align: right;\n",
       "    }\n",
       "</style>\n",
       "<table border=\"1\" class=\"dataframe\">\n",
       "  <thead>\n",
       "    <tr style=\"text-align: right;\">\n",
       "      <th></th>\n",
       "      <th>no_of_passenger</th>\n",
       "      <th>hour</th>\n",
       "      <th>day</th>\n",
       "      <th>month</th>\n",
       "      <th>year</th>\n",
       "      <th>dayofweek</th>\n",
       "      <th>travel_dist_km</th>\n",
       "    </tr>\n",
       "    <tr>\n",
       "      <th>unique_id</th>\n",
       "      <th></th>\n",
       "      <th></th>\n",
       "      <th></th>\n",
       "      <th></th>\n",
       "      <th></th>\n",
       "      <th></th>\n",
       "      <th></th>\n",
       "    </tr>\n",
       "  </thead>\n",
       "  <tbody>\n",
       "    <tr>\n",
       "      <th>26:21.0</th>\n",
       "      <td>1</td>\n",
       "      <td>17</td>\n",
       "      <td>15</td>\n",
       "      <td>6</td>\n",
       "      <td>2009</td>\n",
       "      <td>0</td>\n",
       "      <td>1.030765</td>\n",
       "    </tr>\n",
       "    <tr>\n",
       "      <th>52:16.0</th>\n",
       "      <td>1</td>\n",
       "      <td>16</td>\n",
       "      <td>5</td>\n",
       "      <td>1</td>\n",
       "      <td>2010</td>\n",
       "      <td>1</td>\n",
       "      <td>8.450145</td>\n",
       "    </tr>\n",
       "    <tr>\n",
       "      <th>35:00.0</th>\n",
       "      <td>2</td>\n",
       "      <td>0</td>\n",
       "      <td>18</td>\n",
       "      <td>8</td>\n",
       "      <td>2011</td>\n",
       "      <td>3</td>\n",
       "      <td>1.389527</td>\n",
       "    </tr>\n",
       "    <tr>\n",
       "      <th>30:42.0</th>\n",
       "      <td>1</td>\n",
       "      <td>4</td>\n",
       "      <td>21</td>\n",
       "      <td>4</td>\n",
       "      <td>2012</td>\n",
       "      <td>5</td>\n",
       "      <td>2.799274</td>\n",
       "    </tr>\n",
       "    <tr>\n",
       "      <th>51:00.0</th>\n",
       "      <td>1</td>\n",
       "      <td>7</td>\n",
       "      <td>9</td>\n",
       "      <td>3</td>\n",
       "      <td>2010</td>\n",
       "      <td>1</td>\n",
       "      <td>1.999160</td>\n",
       "    </tr>\n",
       "  </tbody>\n",
       "</table>\n",
       "</div>"
      ],
      "text/plain": [
       "           no_of_passenger  hour  day  month  year  dayofweek  travel_dist_km\n",
       "unique_id                                                                    \n",
       "26:21.0                  1    17   15      6  2009          0        1.030765\n",
       "52:16.0                  1    16    5      1  2010          1        8.450145\n",
       "35:00.0                  2     0   18      8  2011          3        1.389527\n",
       "30:42.0                  1     4   21      4  2012          5        2.799274\n",
       "51:00.0                  1     7    9      3  2010          1        1.999160"
      ]
     },
     "execution_count": 31,
     "metadata": {},
     "output_type": "execute_result"
    }
   ],
   "source": [
    "print(X.shape)\n",
    "X.head()"
   ]
  },
  {
   "cell_type": "code",
   "execution_count": 32,
   "id": "d55933c3",
   "metadata": {},
   "outputs": [
    {
     "data": {
      "text/plain": [
       "(48211,)"
      ]
     },
     "execution_count": 32,
     "metadata": {},
     "output_type": "execute_result"
    }
   ],
   "source": [
    "Y.shape"
   ]
  },
  {
   "cell_type": "markdown",
   "id": "c6f020f5",
   "metadata": {},
   "source": [
    "#### Scaling the Independednt variable i.e. X"
   ]
  },
  {
   "cell_type": "code",
   "execution_count": 33,
   "id": "8efec2d2",
   "metadata": {},
   "outputs": [],
   "source": [
    "from sklearn.preprocessing import StandardScaler\n",
    "scaler= StandardScaler()\n",
    "scaler.fit(X)\n",
    "X= scaler.transform(X)"
   ]
  },
  {
   "cell_type": "markdown",
   "id": "4a118c8f",
   "metadata": {},
   "source": [
    "#### Splitting the data into train and test"
   ]
  },
  {
   "cell_type": "code",
   "execution_count": 34,
   "id": "1f132328",
   "metadata": {},
   "outputs": [
    {
     "name": "stdout",
     "output_type": "stream",
     "text": [
      "The shape of X_train is: (33747, 7)\n",
      "The shape of X_test is: (14464, 7)\n",
      "The shape of y_train is: (33747,)\n",
      "The shape of y_test is: (14464,)\n"
     ]
    }
   ],
   "source": [
    "from sklearn.model_selection import train_test_split\n",
    "#Split the data into test and train\n",
    "X_train, X_test, Y_train, Y_test = train_test_split(X, Y, test_size=0.3,random_state=10)  \n",
    "# check the dimensions of the train & test subset for \n",
    "# print dimension of predictors train set\n",
    "print(\"The shape of X_train is:\",X_train.shape)\n",
    "\n",
    "# print dimension of predictors test set\n",
    "print(\"The shape of X_test is:\",X_test.shape)\n",
    "\n",
    "# print dimension of target train set\n",
    "print(\"The shape of y_train is:\",Y_train.shape)\n",
    "\n",
    "# print dimension of target test set\n",
    "print(\"The shape of y_test is:\",Y_test.shape)"
   ]
  },
  {
   "cell_type": "markdown",
   "id": "4a07881f",
   "metadata": {},
   "source": [
    "#### Fuction determining the evaluation of the model"
   ]
  },
  {
   "cell_type": "code",
   "execution_count": 35,
   "id": "67739fb1",
   "metadata": {},
   "outputs": [],
   "source": [
    "eval_table = pd.DataFrame(columns = ['model_name', 'r_square', 'adjusted_R_square', 'RMSE', 'MSE', 'MAE', 'K-fold_mean'])"
   ]
  },
  {
   "cell_type": "code",
   "execution_count": 36,
   "id": "f8001973",
   "metadata": {},
   "outputs": [],
   "source": [
    "from sklearn.metrics import r2_score,mean_squared_error, mean_absolute_error, mean_squared_error\n",
    "\n",
    "def evaluation_table(model_name, Y_test, Y_pred, k_fold_mean):\n",
    "    \n",
    "    if k_fold_mean is None:\n",
    "        k_fold_mean = 'NA'\n",
    "\n",
    "    # Calculate R^2 Coefficient of determination\n",
    "    r2=r2_score(Y_test,Y_pred)\n",
    "    print(\"R-squared:\",r2)\n",
    "    \n",
    "    # Calculate Adjusted R^2\n",
    "    adjusted_r_squared = 1 - (1-r2)*(len(Y)-1)/(len(Y)-X.shape[1]-1)\n",
    "    print(\"Adj R-square:\",adjusted_r_squared)\n",
    "\n",
    "    # Calculate RMSE\n",
    "    rmse=np.sqrt(mean_squared_error(Y_test,Y_pred))\n",
    "    print(\"RMSE:\",rmse)\n",
    "\n",
    "    # Calculate MAE   \n",
    "    MAE = mean_absolute_error(Y_test,Y_pred)\n",
    "    print('Mean Absolute Error (MAE):', MAE)\n",
    "\n",
    "    # Calculate MSE\n",
    "    MSE = mean_squared_error(Y_test,Y_pred)\n",
    "    print('Mean Squared Error (MSE):', MSE)\n",
    "    \n",
    "    return [model_name, r2, adjusted_r_squared, rmse, MSE, MAE, k_fold_mean]  "
   ]
  },
  {
   "cell_type": "markdown",
   "id": "379ef63c",
   "metadata": {},
   "source": [
    "#### K-Fold fucntion"
   ]
  },
  {
   "cell_type": "markdown",
   "id": "89712d6b",
   "metadata": {},
   "source": [
    "A good technique to use cross validation while working with any model to avoid over fitting"
   ]
  },
  {
   "cell_type": "code",
   "execution_count": 37,
   "id": "dbd519c4",
   "metadata": {},
   "outputs": [],
   "source": [
    "# K-fold sklearn import\n",
    "from sklearn.model_selection import KFold\n",
    "\n",
    "# to check the r2 for kfold cv\n",
    "from sklearn.model_selection import cross_val_score\n",
    "\n",
    "def k_fold_validation_prediction(model, num_of_splits, X_train, Y_train, X_test, Y_test ):\n",
    "    \n",
    "    #Using cross validation = creating a clone of the model object\n",
    "    classifier=model\n",
    "\n",
    "    #performing kfold_cross_validation\n",
    "    kfold_cv=KFold(n_splits=num_of_splits, random_state=10, shuffle = True)\n",
    "    print(\"kfold_cv : \",kfold_cv)\n",
    "\n",
    "    #running the model using scoring metric as accuracy\n",
    "    kfold_cv_result=cross_val_score(estimator=classifier,X=X_train,y=Y_train, cv=kfold_cv)\n",
    "    #print(\"\\nkfold_cv_result : \",kfold_cv_result)\n",
    "    \n",
    "    #finding the mean\n",
    "    k_fold_mean = kfold_cv_result.mean()\n",
    "    print(\"kfold_cv_result.mean() : \",k_fold_mean)\n",
    "    \n",
    "    #model training and tuning\n",
    "    for train_value, test_value in kfold_cv.split(X_train):\n",
    "        classifier.fit(X_train[train_value], Y_train[train_value]).predict(X_train[test_value])\n",
    "\n",
    "    # predict on the tuned model\n",
    "    Y_pred=classifier.predict(X_test)\n",
    "    #print(list(zip(Y_test,Y_pred)))\n",
    "    \n",
    "    # return values\n",
    "    return Y_pred, k_fold_mean\n"
   ]
  },
  {
   "cell_type": "code",
   "execution_count": 38,
   "id": "7174a5e3",
   "metadata": {},
   "outputs": [],
   "source": [
    "from sklearn.ensemble import RandomForestRegressor\n",
    "\n",
    "#predicting using the Gradient_Boosting\n",
    "from sklearn.ensemble import GradientBoostingRegressor\n",
    "\n",
    "from sklearn.ensemble import ExtraTreesRegressor\n",
    "\n",
    "from catboost import CatBoostRegressor\n",
    "\n",
    "from sklearn.linear_model import Ridge\n"
   ]
  },
  {
   "cell_type": "markdown",
   "id": "bf2c0801",
   "metadata": {},
   "source": [
    "#### Random Forest Regressor"
   ]
  },
  {
   "cell_type": "code",
   "execution_count": 39,
   "id": "e562c254",
   "metadata": {},
   "outputs": [],
   "source": [
    "#intantiate the regressor (, warm_start=True, oob_score=True)\n",
    "rf_reg = RandomForestRegressor(n_estimators=100, random_state=10, max_depth = 10, min_samples_split = 20)\n",
    "\n",
    "# fit the regressor with training dataset\n",
    "rf_reg.fit(X_train, Y_train)\n",
    "\n",
    "# predict the values on test dataset using predict()\n",
    "Y_pred = rf_reg.predict(X_test)\n"
   ]
  },
  {
   "cell_type": "code",
   "execution_count": 40,
   "id": "5984554f",
   "metadata": {},
   "outputs": [
    {
     "name": "stdout",
     "output_type": "stream",
     "text": [
      "R-squared: 0.8011587580055691\n",
      "Adj R-square: 0.8011298824440074\n",
      "RMSE: 4.407994802759462\n",
      "Mean Absolute Error (MAE): 2.1446829862923376\n",
      "Mean Squared Error (MSE): 19.430418181154426\n"
     ]
    }
   ],
   "source": [
    "eval_table = eval_table.append(pd.Series(evaluation_table('RandomForest_Regressor', Y_test, Y_pred, None), index = eval_table.columns), ignore_index=True)"
   ]
  },
  {
   "cell_type": "markdown",
   "id": "587b90be",
   "metadata": {},
   "source": [
    "#### Random Forest - K-fold"
   ]
  },
  {
   "cell_type": "code",
   "execution_count": 41,
   "id": "34eb3706",
   "metadata": {},
   "outputs": [
    {
     "name": "stdout",
     "output_type": "stream",
     "text": [
      "kfold_cv :  KFold(n_splits=10, random_state=10, shuffle=True)\n",
      "kfold_cv_result.mean() :  0.7686187458414706\n"
     ]
    }
   ],
   "source": [
    "#intantiate the regressor (, warm_start=True, oob_score=True)\n",
    "rf_reg = RandomForestRegressor(n_estimators=100, random_state=10)\n",
    "\n",
    "# predict the values on test dataset using predict()\n",
    "Y_pred, k_fold_mean = k_fold_validation_prediction(rf_reg, int(10), X_train, Y_train, X_test, Y_test)\n"
   ]
  },
  {
   "cell_type": "code",
   "execution_count": 42,
   "id": "171f0e6d",
   "metadata": {},
   "outputs": [
    {
     "name": "stdout",
     "output_type": "stream",
     "text": [
      "R-squared: 0.7783914442297994\n",
      "Adj R-square: 0.7783592624176634\n",
      "RMSE: 4.653514826330568\n",
      "Mean Absolute Error (MAE): 2.2709233568399703\n",
      "Mean Squared Error (MSE): 21.655200238878415\n"
     ]
    }
   ],
   "source": [
    "eval_table = eval_table.append(pd.Series(evaluation_table('RandomForest_Regressor-Kfold', Y_test, Y_pred, k_fold_mean), index = eval_table.columns), ignore_index=True)"
   ]
  },
  {
   "cell_type": "markdown",
   "id": "e7bff97e",
   "metadata": {},
   "source": [
    "##### Feature importance"
   ]
  },
  {
   "cell_type": "code",
   "execution_count": 43,
   "id": "eb73f414",
   "metadata": {},
   "outputs": [
    {
     "name": "stdout",
     "output_type": "stream",
     "text": [
      "travel_dist_km \t\t:: 0.8400133774762428\n",
      "hour \t\t:: 0.036138367935571895\n",
      "year \t\t:: 0.035269097734370855\n",
      "day \t\t:: 0.03075620841897775\n",
      "month \t\t:: 0.025604987985688724\n",
      "dayofweek \t\t:: 0.021554702879729246\n",
      "no_of_passenger \t\t:: 0.010663257569418752\n"
     ]
    }
   ],
   "source": [
    "d = dict(zip(['no_of_passenger','hour','day','month','year','dayofweek','travel_dist_km'],rf_reg.feature_importances_))\n",
    "for w in sorted(d, key=d.get, reverse=True):\n",
    "    print(w ,'\\t\\t::', d[w])"
   ]
  },
  {
   "cell_type": "markdown",
   "id": "75fd74eb",
   "metadata": {},
   "source": [
    "let us build the model using the first three features and check if there is an increase in accuracy score"
   ]
  },
  {
   "cell_type": "code",
   "execution_count": 44,
   "id": "d6ececae",
   "metadata": {},
   "outputs": [],
   "source": [
    "X_rev = df.loc[:,['travel_dist_km', 'year', 'hour'] ]"
   ]
  },
  {
   "cell_type": "code",
   "execution_count": 45,
   "id": "f52cb6fd",
   "metadata": {},
   "outputs": [],
   "source": [
    "from sklearn.preprocessing import StandardScaler\n",
    "scaler= StandardScaler()\n",
    "scaler.fit(X_rev)\n",
    "X_rev = scaler.transform(X_rev)"
   ]
  },
  {
   "cell_type": "code",
   "execution_count": 46,
   "id": "66f8c40d",
   "metadata": {},
   "outputs": [],
   "source": [
    "from sklearn.model_selection import train_test_split\n",
    "#Split the data into test and train\n",
    "X_train1, X_test1, Y_train1, Y_test1 = train_test_split(X_rev, Y, test_size=0.3,random_state=10)"
   ]
  },
  {
   "cell_type": "code",
   "execution_count": 47,
   "id": "0d67a49e",
   "metadata": {},
   "outputs": [
    {
     "name": "stdout",
     "output_type": "stream",
     "text": [
      "kfold_cv :  KFold(n_splits=10, random_state=10, shuffle=True)\n",
      "kfold_cv_result.mean() :  0.7460651038097936\n"
     ]
    }
   ],
   "source": [
    "#intantiate the regressor (, warm_start=True, oob_score=True)\n",
    "rf_reg1 = RandomForestRegressor(n_estimators=100, random_state=10)\n",
    "\n",
    "# predict the values on test dataset using predict()\n",
    "Y_pred, k_fold_mean = k_fold_validation_prediction(rf_reg, int(10), X_train1, Y_train1, X_test1, Y_test1)\n"
   ]
  },
  {
   "cell_type": "code",
   "execution_count": 48,
   "id": "1c578898",
   "metadata": {},
   "outputs": [
    {
     "name": "stdout",
     "output_type": "stream",
     "text": [
      "R-squared: 0.7515503151927889\n",
      "Adj R-square: 0.7515142355339782\n",
      "RMSE: 4.927277990377626\n",
      "Mean Absolute Error (MAE): 2.407849025972529\n",
      "Mean Squared Error (MSE): 24.27806839445978\n"
     ]
    }
   ],
   "source": [
    "eval_table = eval_table.append(pd.Series(evaluation_table('RandomForest_Regressor-featureImp', Y_test, Y_pred, k_fold_mean), index = eval_table.columns), ignore_index=True)"
   ]
  },
  {
   "cell_type": "markdown",
   "id": "e8a321e3",
   "metadata": {},
   "source": [
    "#### GradientBoostingRegressor"
   ]
  },
  {
   "cell_type": "code",
   "execution_count": 49,
   "id": "d5aef8b3",
   "metadata": {},
   "outputs": [
    {
     "name": "stdout",
     "output_type": "stream",
     "text": [
      "R-squared: 0.7880655192606776\n",
      "Adj R-square: 0.788034742309758\n",
      "RMSE: 4.550809439780062\n",
      "Mean Absolute Error (MAE): 2.1313102400382005\n",
      "Mean Squared Error (MSE): 20.709866557191322\n"
     ]
    }
   ],
   "source": [
    "gradientRegressor=GradientBoostingRegressor(n_estimators=100,random_state=10)\n",
    "\n",
    "#fit the model on the data and predict the values\n",
    "gradientRegressor.fit(X_train,Y_train)\n",
    "\n",
    "Y_pred=gradientRegressor.predict(X_test)\n",
    "eval_table = eval_table.append(pd.Series(evaluation_table('GradBoost_Regressor', Y_test, Y_pred, None), index = eval_table.columns), ignore_index=True)"
   ]
  },
  {
   "cell_type": "markdown",
   "id": "9e39d2ba",
   "metadata": {},
   "source": [
    "#### GradientBoostingRegressor - Kfold"
   ]
  },
  {
   "cell_type": "code",
   "execution_count": 50,
   "id": "9768c7d3",
   "metadata": {},
   "outputs": [
    {
     "name": "stdout",
     "output_type": "stream",
     "text": [
      "kfold_cv :  KFold(n_splits=10, random_state=10, shuffle=True)\n",
      "kfold_cv_result.mean() :  0.7846585309072978\n",
      "R-squared: 0.7967063421827083\n",
      "Adj R-square: 0.7966768200449841\n",
      "RMSE: 4.457073082563823\n",
      "Mean Absolute Error (MAE): 2.1305663312003054\n",
      "Mean Squared Error (MSE): 19.865500463314977\n"
     ]
    }
   ],
   "source": [
    "gradientRegressor=GradientBoostingRegressor(n_estimators=100,random_state=10)\n",
    "\n",
    "#fit the model on the data and predict the values\n",
    "# predict the values on test dataset using predict()\n",
    "Y_pred, k_fold_mean = k_fold_validation_prediction(gradientRegressor, int(10), X_train, Y_train, X_test, Y_test)\n",
    "\n",
    "eval_table = eval_table.append(pd.Series(evaluation_table('GradBoost_Regressor-kfold', Y_test, Y_pred, k_fold_mean), index = eval_table.columns), ignore_index=True)"
   ]
  },
  {
   "cell_type": "markdown",
   "id": "b232c54d",
   "metadata": {},
   "source": [
    "#### ExtraTreesRegressor"
   ]
  },
  {
   "cell_type": "code",
   "execution_count": 51,
   "id": "7689328c",
   "metadata": {},
   "outputs": [
    {
     "name": "stdout",
     "output_type": "stream",
     "text": [
      "R-squared: 0.7827112688971836\n",
      "Adj R-square: 0.7826797144064316\n",
      "RMSE: 4.607936038226544\n",
      "Mean Absolute Error (MAE): 2.3241711003344925\n",
      "Mean Squared Error (MSE): 21.233074532386944\n"
     ]
    }
   ],
   "source": [
    "etree = ExtraTreesRegressor(random_state=100,bootstrap=True)\n",
    "etree.fit(X_train,Y_train)\n",
    "Y_pred=etree.predict(X_test)\n",
    "eval_table = eval_table.append(pd.Series(evaluation_table('Extra_Regressor', Y_test, Y_pred, None), index = eval_table.columns), ignore_index=True)"
   ]
  },
  {
   "cell_type": "markdown",
   "id": "17a3bcf8",
   "metadata": {},
   "source": [
    "#### ExtraTreesRegressor - KFOLD"
   ]
  },
  {
   "cell_type": "code",
   "execution_count": 52,
   "id": "66d77851",
   "metadata": {},
   "outputs": [
    {
     "name": "stdout",
     "output_type": "stream",
     "text": [
      "kfold_cv :  KFold(n_splits=10, random_state=10, shuffle=True)\n",
      "kfold_cv_result.mean() :  0.7498054225254132\n",
      "R-squared: 0.7799152441754413\n",
      "Adj R-square: 0.7798832836482797\n",
      "RMSE: 4.637488239871914\n",
      "Mean Absolute Error (MAE): 2.340318024059734\n",
      "Mean Squared Error (MSE): 21.506297174950298\n"
     ]
    }
   ],
   "source": [
    "etree = ExtraTreesRegressor(random_state=100,bootstrap=True)\n",
    "Y_pred, k_fold_mean = k_fold_validation_prediction(etree, int(10), X_train, Y_train, X_test, Y_test)\n",
    "\n",
    "eval_table = eval_table.append(pd.Series(evaluation_table('ExtraTree-kfold', Y_test, Y_pred, k_fold_mean), index = eval_table.columns), ignore_index=True)"
   ]
  },
  {
   "cell_type": "markdown",
   "id": "b38c6c61",
   "metadata": {},
   "source": [
    "#### CatBoostRegressor"
   ]
  },
  {
   "cell_type": "code",
   "execution_count": 53,
   "id": "a61d1a9e",
   "metadata": {
    "scrolled": true
   },
   "outputs": [
    {
     "name": "stdout",
     "output_type": "stream",
     "text": [
      "kfold_cv :  KFold(n_splits=10, random_state=10, shuffle=True)\n",
      "kfold_cv_result.mean() :  0.7443790315925471\n",
      "R-squared: 0.7729791973750475\n",
      "Adj R-square: 0.7729462296008763\n",
      "RMSE: 4.709997402303073\n",
      "Mean Absolute Error (MAE): 2.1721455771132434\n",
      "Mean Squared Error (MSE): 22.184075529701698\n"
     ]
    }
   ],
   "source": [
    "cat = CatBoostRegressor(verbose = 0)\n",
    "Y_pred, k_fold_mean = k_fold_validation_prediction(cat, int(10), X_train, Y_train, X_test, Y_test)\n",
    "\n",
    "eval_table = eval_table.append(pd.Series(evaluation_table('CatRegressor-kfold', Y_test, Y_pred, k_fold_mean), index = eval_table.columns), ignore_index=True)"
   ]
  },
  {
   "cell_type": "markdown",
   "id": "cb443219",
   "metadata": {},
   "source": [
    "#### Ridge Regression"
   ]
  },
  {
   "cell_type": "code",
   "execution_count": 54,
   "id": "7f0d818d",
   "metadata": {},
   "outputs": [
    {
     "name": "stdout",
     "output_type": "stream",
     "text": [
      "R-squared: 0.016978708658535013\n",
      "Adj R-square: 0.016835955115407142\n",
      "RMSE: 9.80097547347186\n",
      "Mean Absolute Error (MAE): 6.035038255348521\n",
      "Mean Squared Error (MSE): 96.05912023159695\n"
     ]
    }
   ],
   "source": [
    "#Step 1 : Creating a model object\n",
    "lm = Ridge()\n",
    "#Step 2 : Train the model\n",
    "lm.fit(X_train, Y_train)\n",
    "# Fitting the training data so that the model learns. It takes time based on the data\n",
    "Y_pred=lm.predict(X_test)\n",
    "eval_table = eval_table.append(pd.Series(evaluation_table('RidgeLR', Y_test, Y_pred, None), index = eval_table.columns), ignore_index=True)"
   ]
  },
  {
   "cell_type": "markdown",
   "id": "92ec9bed",
   "metadata": {},
   "source": [
    "#### Ridge - kFold"
   ]
  },
  {
   "cell_type": "code",
   "execution_count": 55,
   "id": "25808848",
   "metadata": {},
   "outputs": [
    {
     "name": "stdout",
     "output_type": "stream",
     "text": [
      "kfold_cv :  KFold(n_splits=10, random_state=10, shuffle=True)\n",
      "kfold_cv_result.mean() :  0.017654268784770232\n",
      "R-squared: 0.017063293457070694\n",
      "Adj R-square: 0.01692055219727784\n",
      "RMSE: 9.800553798286787\n",
      "Mean Absolute Error (MAE): 6.041947745811893\n",
      "Mean Squared Error (MSE): 96.05085475311355\n"
     ]
    }
   ],
   "source": [
    "#Step 1 : Creating a model object\n",
    "lm = Ridge()\n",
    "\n",
    "# Fitting the training data so that the model learns. It takes time based on the data\n",
    "Y_pred, k_fold_mean = k_fold_validation_prediction(lm, int(10), X_train, Y_train, X_test, Y_test)\n",
    "\n",
    "eval_table = eval_table.append(pd.Series(evaluation_table('RidgeLR-kfold', Y_test, Y_pred, k_fold_mean), index = eval_table.columns), ignore_index=True)"
   ]
  },
  {
   "cell_type": "code",
   "execution_count": 66,
   "id": "6b9a6e62",
   "metadata": {},
   "outputs": [],
   "source": [
    "eval_table = eval_table.set_index('model_name')"
   ]
  },
  {
   "cell_type": "code",
   "execution_count": 67,
   "id": "c8139125",
   "metadata": {},
   "outputs": [
    {
     "data": {
      "text/html": [
       "<div>\n",
       "<style scoped>\n",
       "    .dataframe tbody tr th:only-of-type {\n",
       "        vertical-align: middle;\n",
       "    }\n",
       "\n",
       "    .dataframe tbody tr th {\n",
       "        vertical-align: top;\n",
       "    }\n",
       "\n",
       "    .dataframe thead th {\n",
       "        text-align: right;\n",
       "    }\n",
       "</style>\n",
       "<table border=\"1\" class=\"dataframe\">\n",
       "  <thead>\n",
       "    <tr style=\"text-align: right;\">\n",
       "      <th></th>\n",
       "      <th>r_square</th>\n",
       "      <th>adjusted_R_square</th>\n",
       "      <th>RMSE</th>\n",
       "      <th>MSE</th>\n",
       "      <th>MAE</th>\n",
       "      <th>K-fold_mean</th>\n",
       "    </tr>\n",
       "    <tr>\n",
       "      <th>model_name</th>\n",
       "      <th></th>\n",
       "      <th></th>\n",
       "      <th></th>\n",
       "      <th></th>\n",
       "      <th></th>\n",
       "      <th></th>\n",
       "    </tr>\n",
       "  </thead>\n",
       "  <tbody>\n",
       "    <tr>\n",
       "      <th>RandomForest_Regressor</th>\n",
       "      <td>0.801159</td>\n",
       "      <td>0.801130</td>\n",
       "      <td>4.407995</td>\n",
       "      <td>19.430418</td>\n",
       "      <td>2.144683</td>\n",
       "      <td>NA</td>\n",
       "    </tr>\n",
       "    <tr>\n",
       "      <th>RandomForest_Regressor-Kfold</th>\n",
       "      <td>0.778391</td>\n",
       "      <td>0.778359</td>\n",
       "      <td>4.653515</td>\n",
       "      <td>21.655200</td>\n",
       "      <td>2.270923</td>\n",
       "      <td>0.768619</td>\n",
       "    </tr>\n",
       "    <tr>\n",
       "      <th>RandomForest_Regressor-featureImp</th>\n",
       "      <td>0.751550</td>\n",
       "      <td>0.751514</td>\n",
       "      <td>4.927278</td>\n",
       "      <td>24.278068</td>\n",
       "      <td>2.407849</td>\n",
       "      <td>0.746065</td>\n",
       "    </tr>\n",
       "    <tr>\n",
       "      <th>GradBoost_Regressor</th>\n",
       "      <td>0.788066</td>\n",
       "      <td>0.788035</td>\n",
       "      <td>4.550809</td>\n",
       "      <td>20.709867</td>\n",
       "      <td>2.131310</td>\n",
       "      <td>NA</td>\n",
       "    </tr>\n",
       "    <tr>\n",
       "      <th>GradBoost_Regressor-kfold</th>\n",
       "      <td>0.796706</td>\n",
       "      <td>0.796677</td>\n",
       "      <td>4.457073</td>\n",
       "      <td>19.865500</td>\n",
       "      <td>2.130566</td>\n",
       "      <td>0.784659</td>\n",
       "    </tr>\n",
       "    <tr>\n",
       "      <th>Extra_Regressor</th>\n",
       "      <td>0.782711</td>\n",
       "      <td>0.782680</td>\n",
       "      <td>4.607936</td>\n",
       "      <td>21.233075</td>\n",
       "      <td>2.324171</td>\n",
       "      <td>NA</td>\n",
       "    </tr>\n",
       "    <tr>\n",
       "      <th>ExtraTree-kfold</th>\n",
       "      <td>0.779915</td>\n",
       "      <td>0.779883</td>\n",
       "      <td>4.637488</td>\n",
       "      <td>21.506297</td>\n",
       "      <td>2.340318</td>\n",
       "      <td>0.749805</td>\n",
       "    </tr>\n",
       "    <tr>\n",
       "      <th>CatRegressor-kfold</th>\n",
       "      <td>0.772979</td>\n",
       "      <td>0.772946</td>\n",
       "      <td>4.709997</td>\n",
       "      <td>22.184076</td>\n",
       "      <td>2.172146</td>\n",
       "      <td>0.744379</td>\n",
       "    </tr>\n",
       "  </tbody>\n",
       "</table>\n",
       "</div>"
      ],
      "text/plain": [
       "                                   r_square  adjusted_R_square      RMSE  \\\n",
       "model_name                                                                 \n",
       "RandomForest_Regressor             0.801159           0.801130  4.407995   \n",
       "RandomForest_Regressor-Kfold       0.778391           0.778359  4.653515   \n",
       "RandomForest_Regressor-featureImp  0.751550           0.751514  4.927278   \n",
       "GradBoost_Regressor                0.788066           0.788035  4.550809   \n",
       "GradBoost_Regressor-kfold          0.796706           0.796677  4.457073   \n",
       "Extra_Regressor                    0.782711           0.782680  4.607936   \n",
       "ExtraTree-kfold                    0.779915           0.779883  4.637488   \n",
       "CatRegressor-kfold                 0.772979           0.772946  4.709997   \n",
       "\n",
       "                                         MSE       MAE K-fold_mean  \n",
       "model_name                                                          \n",
       "RandomForest_Regressor             19.430418  2.144683          NA  \n",
       "RandomForest_Regressor-Kfold       21.655200  2.270923    0.768619  \n",
       "RandomForest_Regressor-featureImp  24.278068  2.407849    0.746065  \n",
       "GradBoost_Regressor                20.709867  2.131310          NA  \n",
       "GradBoost_Regressor-kfold          19.865500  2.130566    0.784659  \n",
       "Extra_Regressor                    21.233075  2.324171          NA  \n",
       "ExtraTree-kfold                    21.506297  2.340318    0.749805  \n",
       "CatRegressor-kfold                 22.184076  2.172146    0.744379  "
      ]
     },
     "execution_count": 67,
     "metadata": {},
     "output_type": "execute_result"
    }
   ],
   "source": [
    "eval_table"
   ]
  },
  {
   "cell_type": "markdown",
   "id": "a2fb002b",
   "metadata": {},
   "source": [
    "#### Conclusion"
   ]
  },
  {
   "cell_type": "markdown",
   "id": "fb494b91",
   "metadata": {},
   "source": [
    "    The regression algorithms named in the above table have been implemented on the given dataset. The performance of the models were evaluated using Adjusted_R^2, MAE, MSE,RMSE.\n",
    "\n",
    "    We see that GradBoost_Regressor with kFold cv has the lowest RMSE and highest Adjusted_r^2. We could further tune the model hyperparameters for better performance"
   ]
  },
  {
   "cell_type": "code",
   "execution_count": null,
   "id": "2d4cd33c",
   "metadata": {},
   "outputs": [],
   "source": []
  }
 ],
 "metadata": {
  "kernelspec": {
   "display_name": "Python 3",
   "language": "python",
   "name": "python3"
  },
  "language_info": {
   "codemirror_mode": {
    "name": "ipython",
    "version": 3
   },
   "file_extension": ".py",
   "mimetype": "text/x-python",
   "name": "python",
   "nbconvert_exporter": "python",
   "pygments_lexer": "ipython3",
   "version": "3.8.8"
  }
 },
 "nbformat": 4,
 "nbformat_minor": 5
}
